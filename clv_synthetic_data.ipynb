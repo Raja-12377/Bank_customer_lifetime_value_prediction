{
 "cells": [
  {
   "cell_type": "code",
   "execution_count": 4,
   "id": "e07280f8-8385-493e-89b5-aaab60e6e19f",
   "metadata": {},
   "outputs": [
    {
     "name": "stdout",
     "output_type": "stream",
     "text": [
      "   Customer ID  Age Gender  Income Account Type  Account Balance  \\\n",
      "0          914   76      F   53312      Savings             8403   \n",
      "1          914   76      F   53312      Savings             8403   \n",
      "2          914   76      F   53312      Savings             8403   \n",
      "3          914   76      F   53312      Savings             8403   \n",
      "4          914   76      F   53312      Savings             8403   \n",
      "\n",
      "  Transaction Date  Transaction Amount  Frequency of Mortgage  \\\n",
      "0       2022-12-22                 419                      0   \n",
      "1       2023-05-01                 757                      0   \n",
      "2       2022-12-07                 603                      0   \n",
      "3       2024-01-10                 310                      0   \n",
      "4       2022-05-23                 648                      0   \n",
      "\n",
      "   Frequency of Loan  Frequency of Credit Card        CLV  \n",
      "0                  2                         1  26.878844  \n",
      "1                  2                         1  26.878844  \n",
      "2                  2                         1  26.878844  \n",
      "3                  2                         1  26.878844  \n",
      "4                  2                         1  26.878844  \n"
     ]
    }
   ],
   "source": [
    "import pandas as pd\n",
    "import numpy as np\n",
    "from faker import Faker\n",
    "\n",
    "# Initialize Faker\n",
    "fake = Faker()\n",
    "\n",
    "# Function to calculate CLV based on features\n",
    "def calculate_clv(age, income, account_balance, frequency_of_mortgage, frequency_of_loan, frequency_of_credit_card):\n",
    "    base_clv = account_balance * 0.1\n",
    "    age_factor = (80 - age) / 80  # Assume max age of 80 for normalization\n",
    "    income_factor = income / 100000  # Normalize income assuming max income of 100000\n",
    "    frequency_factor = (frequency_of_mortgage + frequency_of_loan + frequency_of_credit_card) / 15  # Normalize frequency per year (max 5 per category)\n",
    "    return base_clv * age_factor * income_factor * (1 + frequency_factor)\n",
    "\n",
    "# Generate synthetic data\n",
    "def generate_synthetic_data(n_samples=1000):\n",
    "    data = []\n",
    "\n",
    "    for _ in range(n_samples):\n",
    "        customer_id = np.random.randint(1, 1001)\n",
    "        age = fake.random_int(min=18, max=80)\n",
    "        gender = fake.random_element(elements=(\"M\", \"F\"))\n",
    "        income = fake.random_int(min=20000, max=100000)\n",
    "        account_type = fake.random_element(elements=(\"Savings\", \"Checking\", \"Credit\"))\n",
    "        account_balance = fake.random_int(min=1000, max=100000)\n",
    "        num_transactions = fake.random_int(min=5, max=50)\n",
    "        transaction_dates = [fake.date_this_decade() for _ in range(num_transactions)]\n",
    "        transaction_amounts = [fake.random_int(min=10, max=1000) for _ in range(num_transactions)]\n",
    "        frequency_of_mortgage = fake.random_int(min=0, max=5)\n",
    "        frequency_of_loan = fake.random_int(min=0, max=5)\n",
    "        frequency_of_credit_card = fake.random_int(min=0, max=5)\n",
    "        \n",
    "        for i in range(num_transactions):\n",
    "            clv = calculate_clv(age, income, account_balance, frequency_of_mortgage, frequency_of_loan, frequency_of_credit_card)\n",
    "            data.append({\n",
    "                \"Customer ID\": customer_id,\n",
    "                \"Age\": age,\n",
    "                \"Gender\": gender,\n",
    "                \"Income\": income,\n",
    "                \"Account Type\": account_type,\n",
    "                \"Account Balance\": account_balance,\n",
    "                \"Transaction Date\": transaction_dates[i],\n",
    "                \"Transaction Amount\": transaction_amounts[i],\n",
    "                \"Frequency of Mortgage\": frequency_of_mortgage,\n",
    "                \"Frequency of Loan\": frequency_of_loan,\n",
    "                \"Frequency of Credit Card\": frequency_of_credit_card,\n",
    "                \"CLV\": clv\n",
    "            })\n",
    "\n",
    "    return pd.DataFrame(data)\n",
    "\n",
    "# Generate dataset\n",
    "dataset = generate_synthetic_data(n_samples=1000)\n",
    "\n",
    "# Print the first few rows of the dataset\n",
    "print(dataset.head())\n",
    "\n",
    "# Save to CSV\n",
    "dataset.to_csv(\"synthetic_clv.csv\", index=False)\n"
   ]
  },
  {
   "cell_type": "code",
   "execution_count": null,
   "id": "ae88001f-01e8-49d8-bc25-d601f16228bd",
   "metadata": {},
   "outputs": [],
   "source": []
  }
 ],
 "metadata": {
  "kernelspec": {
   "display_name": "Python 3 (ipykernel)",
   "language": "python",
   "name": "python3"
  },
  "language_info": {
   "codemirror_mode": {
    "name": "ipython",
    "version": 3
   },
   "file_extension": ".py",
   "mimetype": "text/x-python",
   "name": "python",
   "nbconvert_exporter": "python",
   "pygments_lexer": "ipython3",
   "version": "3.11.7"
  }
 },
 "nbformat": 4,
 "nbformat_minor": 5
}
